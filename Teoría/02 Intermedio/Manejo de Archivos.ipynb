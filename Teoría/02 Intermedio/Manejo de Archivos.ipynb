{
 "cells": [
  {
   "cell_type": "markdown",
   "source": "# Manejo de Archivos con Python \n---\n###\n## Tipos de Archivo:\n##### Se pueden dividir en dos grupos los tipos de archivo: los de texto y los binarios. Su diferencia es que el primero contiene bites que representan texto plano, el segundo presenta estructuras de bites más complejas que representan cualquier contenido audiovisual.\n###\n---\n###\n## Apertura de Archivos de Texto en Python:\n##### Existen tres modos de apertura en Python para los archivos de texto:\n##### - R > Apertura de texto para su lectura\n##### - W > Apertura de texto para su sobre-escritura\n##### - A > Apertura de texto para agregar líneas de texto al final del archivo original\n##### - A/W+ > Sobre-escritura o adición de texto, creando el archivo en caso de que no exista\n###\n##### Se puede aperturar un archivo de texto mediante la siguiente línea de código:\n`with open(\"./ruta.txt\",\"comando apertura\") as f:`\n###\n## Encoding:\n##### La función \"open\" tiene una componente opcional adicional \"encoding\", la cual sirve para especificar el tipo de codificado que se va a recibir. Para archivos de texto, es recomendable usar el encoding de UTF-8:\n`with open(\"./ruta.txt\",\"comando apertura\",encoding='utf-8') as f:`\n###",
   "metadata": {
    "tags": [],
    "cell_id": "00000-2ab96a95-857c-42ca-b19d-6ecf9c997c2f",
    "deepnote_cell_type": "markdown"
   }
  },
  {
   "cell_type": "markdown",
   "source": "## Ejemplo de Manejo de Archivos\n###\n###### Primero, sobre-escribimos el archivo numbers existente con un conjunto de números aleatorios:",
   "metadata": {
    "tags": [],
    "cell_id": "00001-a85b9edf-9e5d-4e26-8158-dd3a807a9127",
    "deepnote_cell_type": "markdown"
   }
  },
  {
   "cell_type": "code",
   "source": "import random as rd\n\nwith open(\"./files/file.txt\",\"w\",encoding='utf-8') as f:\n    for i in range(100):\n        f.write(str(rd.randint(1,100)))\n        f.write('\\n') # con \\n se inputa un salto de línea",
   "metadata": {
    "tags": [],
    "cell_id": "00001-f77d4e4f-f9c8-40e8-a98a-6e597643977c",
    "deepnote_to_be_reexecuted": false,
    "source_hash": "1ab90fd8",
    "execution_start": 1634181416827,
    "execution_millis": 45,
    "deepnote_cell_type": "code"
   },
   "outputs": [],
   "execution_count": null
  },
  {
   "cell_type": "markdown",
   "source": "Luego, generaremos nombres aleatorios para llenar en el archivo de texto. Para ello, instalaremos la librería \"names\" y la importaremos al código para generar los nombres.",
   "metadata": {
    "tags": [],
    "is_collapsed": false,
    "cell_id": "00003-9abcd354-5b54-42b2-99dd-cf40747a2b1a",
    "deepnote_cell_type": "text-cell-p"
   }
  },
  {
   "cell_type": "code",
   "source": "!pip install names==0.3.0",
   "metadata": {
    "tags": [],
    "cell_id": "00004-8c493e4b-b75a-442d-aff2-ab98cd9731c4",
    "deepnote_to_be_reexecuted": false,
    "source_hash": "16df3e38",
    "execution_start": 1634182085443,
    "execution_millis": 7995,
    "deepnote_cell_type": "code"
   },
   "outputs": [
    {
     "name": "stdout",
     "text": "Collecting names==0.3.0\n  Downloading names-0.3.0.tar.gz (789 kB)\n\u001b[K     |████████████████████████████████| 789 kB 12.5 MB/s \n\u001b[?25hBuilding wheels for collected packages: names\n  Building wheel for names (setup.py) ... \u001b[?25ldone\n\u001b[?25h  Created wheel for names: filename=names-0.3.0-py3-none-any.whl size=803698 sha256=6936a18e24700eea751b6f3b2e7e471d7945b8f430d4e238079bb9dc615d6bb5\n  Stored in directory: /root/.cache/pip/wheels/f1/bc/04/55ab9499ea02359ece8b02b4169ebb30aa52d82b84c13fc506\nSuccessfully built names\nInstalling collected packages: names\nSuccessfully installed names-0.3.0\n\u001b[33mWARNING: You are using pip version 21.2.4; however, version 21.3 is available.\nYou should consider upgrading via the '/root/venv/bin/python -m pip install --upgrade pip' command.\u001b[0m\n",
     "output_type": "stream"
    }
   ],
   "execution_count": null
  },
  {
   "cell_type": "code",
   "source": "import names\n\nwith open(\"./files/file.txt\",\"a\",encoding='utf-8') as f:\n    for i in range (50):\n        f.write(names.get_full_name())\n        f.write('\\n')",
   "metadata": {
    "tags": [],
    "cell_id": "00004-b8011853-1fbb-486e-9574-5a8b9ec4a6f2",
    "deepnote_to_be_reexecuted": false,
    "source_hash": "50cd95c8",
    "execution_start": 1634182288624,
    "execution_millis": 708,
    "deepnote_cell_type": "code"
   },
   "outputs": [],
   "execution_count": null
  },
  {
   "cell_type": "markdown",
   "source": "Finalmente, podemos imprimir líneas aleatorias del archivo:",
   "metadata": {
    "tags": [],
    "is_collapsed": false,
    "cell_id": "00006-f1fa3849-5b01-4d26-abda-7eb81ffe3084",
    "deepnote_cell_type": "text-cell-p"
   }
  },
  {
   "cell_type": "code",
   "source": "with open(\"./files/file.txt\",\"r\",encoding='utf-8') as f:\n    data = [line for line in f]\n    \n    for i in range(0,10):\n       print(rd.choice(data))",
   "metadata": {
    "tags": [],
    "cell_id": "00006-a4ccddaa-c05b-4b71-9b2c-348573358f05",
    "deepnote_to_be_reexecuted": false,
    "source_hash": "7a6d040d",
    "execution_start": 1634182799365,
    "execution_millis": 11,
    "deepnote_cell_type": "code"
   },
   "outputs": [
    {
     "name": "stdout",
     "text": "53\n\n8\n\n52\n\n85\n\nLillian Wilson\n\n66\n\n7\n\n52\n\nHarvey Dunlap\n\nStephen Torres\n\n",
     "output_type": "stream"
    }
   ],
   "execution_count": null
  },
  {
   "cell_type": "markdown",
   "source": "<a style='text-decoration:none;line-height:16px;display:flex;color:#5B5B62;padding:10px;justify-content:end;' href='https://deepnote.com?utm_source=created-in-deepnote-cell&projectId=be2c304b-5a85-4014-8c82-67dc5d240a02' target=\"_blank\">\n<img alt='Created in deepnote.com' style='display:inline;max-height:16px;margin:0px;margin-right:7.5px;' src='data:image/svg+xml;base64,PD94bWwgdmVyc2lvbj0iMS4wIiBlbmNvZGluZz0iVVRGLTgiPz4KPHN2ZyB3aWR0aD0iODBweCIgaGVpZ2h0PSI4MHB4IiB2aWV3Qm94PSIwIDAgODAgODAiIHZlcnNpb249IjEuMSIgeG1sbnM9Imh0dHA6Ly93d3cudzMub3JnLzIwMDAvc3ZnIiB4bWxuczp4bGluaz0iaHR0cDovL3d3dy53My5vcmcvMTk5OS94bGluayI+CiAgICA8IS0tIEdlbmVyYXRvcjogU2tldGNoIDU0LjEgKDc2NDkwKSAtIGh0dHBzOi8vc2tldGNoYXBwLmNvbSAtLT4KICAgIDx0aXRsZT5Hcm91cCAzPC90aXRsZT4KICAgIDxkZXNjPkNyZWF0ZWQgd2l0aCBTa2V0Y2guPC9kZXNjPgogICAgPGcgaWQ9IkxhbmRpbmciIHN0cm9rZT0ibm9uZSIgc3Ryb2tlLXdpZHRoPSIxIiBmaWxsPSJub25lIiBmaWxsLXJ1bGU9ImV2ZW5vZGQiPgogICAgICAgIDxnIGlkPSJBcnRib2FyZCIgdHJhbnNmb3JtPSJ0cmFuc2xhdGUoLTEyMzUuMDAwMDAwLCAtNzkuMDAwMDAwKSI+CiAgICAgICAgICAgIDxnIGlkPSJHcm91cC0zIiB0cmFuc2Zvcm09InRyYW5zbGF0ZSgxMjM1LjAwMDAwMCwgNzkuMDAwMDAwKSI+CiAgICAgICAgICAgICAgICA8cG9seWdvbiBpZD0iUGF0aC0yMCIgZmlsbD0iIzAyNjVCNCIgcG9pbnRzPSIyLjM3NjIzNzYyIDgwIDM4LjA0NzY2NjcgODAgNTcuODIxNzgyMiA3My44MDU3NTkyIDU3LjgyMTc4MjIgMzIuNzU5MjczOSAzOS4xNDAyMjc4IDMxLjY4MzE2ODMiPjwvcG9seWdvbj4KICAgICAgICAgICAgICAgIDxwYXRoIGQ9Ik0zNS4wMDc3MTgsODAgQzQyLjkwNjIwMDcsNzYuNDU0OTM1OCA0Ny41NjQ5MTY3LDcxLjU0MjI2NzEgNDguOTgzODY2LDY1LjI2MTk5MzkgQzUxLjExMjI4OTksNTUuODQxNTg0MiA0MS42NzcxNzk1LDQ5LjIxMjIyODQgMjUuNjIzOTg0Niw0OS4yMTIyMjg0IEMyNS40ODQ5Mjg5LDQ5LjEyNjg0NDggMjkuODI2MTI5Niw0My4yODM4MjQ4IDM4LjY0NzU4NjksMzEuNjgzMTY4MyBMNzIuODcxMjg3MSwzMi41NTQ0MjUgTDY1LjI4MDk3Myw2Ny42NzYzNDIxIEw1MS4xMTIyODk5LDc3LjM3NjE0NCBMMzUuMDA3NzE4LDgwIFoiIGlkPSJQYXRoLTIyIiBmaWxsPSIjMDAyODY4Ij48L3BhdGg+CiAgICAgICAgICAgICAgICA8cGF0aCBkPSJNMCwzNy43MzA0NDA1IEwyNy4xMTQ1MzcsMC4yNTcxMTE0MzYgQzYyLjM3MTUxMjMsLTEuOTkwNzE3MDEgODAsMTAuNTAwMzkyNyA4MCwzNy43MzA0NDA1IEM4MCw2NC45NjA0ODgyIDY0Ljc3NjUwMzgsNzkuMDUwMzQxNCAzNC4zMjk1MTEzLDgwIEM0Ny4wNTUzNDg5LDc3LjU2NzA4MDggNTMuNDE4MjY3Nyw3MC4zMTM2MTAzIDUzLjQxODI2NzcsNTguMjM5NTg4NSBDNTMuNDE4MjY3Nyw0MC4xMjg1NTU3IDM2LjMwMzk1NDQsMzcuNzMwNDQwNSAyNS4yMjc0MTcsMzcuNzMwNDQwNSBDMTcuODQzMDU4NiwzNy43MzA0NDA1IDkuNDMzOTE5NjYsMzcuNzMwNDQwNSAwLDM3LjczMDQ0MDUgWiIgaWQ9IlBhdGgtMTkiIGZpbGw9IiMzNzkzRUYiPjwvcGF0aD4KICAgICAgICAgICAgPC9nPgogICAgICAgIDwvZz4KICAgIDwvZz4KPC9zdmc+' > </img>\nCreated in <span style='font-weight:600;margin-left:4px;'>Deepnote</span></a>",
   "metadata": {
    "tags": [],
    "created_in_deepnote_cell": true,
    "deepnote_cell_type": "markdown"
   }
  }
 ],
 "nbformat": 4,
 "nbformat_minor": 2,
 "metadata": {
  "orig_nbformat": 2,
  "deepnote": {
   "is_reactive": false
  },
  "deepnote_notebook_id": "f3f0f12d-0726-4944-9e65-7e19bed9496b",
  "deepnote_execution_queue": []
 }
}