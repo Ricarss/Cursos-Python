{
 "cells": [
  {
   "cell_type": "markdown",
   "source": "---\n#\n# Funciones de Orden Superior\n---\n##\n#### Las funciones de orden superior son aquellas que, dentro de los argumentos que recibe para su operación, recibe una función como argumento.\n##\n---\n##\n#### Función Filter:\n###### La función filter sirve para filtrar y operar objetos de un listado, usando como expresiones la función para el filtro (retorne booleano) y la lista. Filter retorna un iterable para cada ingreso que cumpla con el booleano True, es decir que vamos a necesitar la función list() para recolectar los caracteres.\n## \n`filtered = list(filter(f(),list))`\n",
   "metadata": {
    "tags": [],
    "cell_id": "00003-400a2e3d-bbe6-4848-b6f8-40b928555f22",
    "deepnote_cell_type": "markdown"
   }
  },
  {
   "cell_type": "code",
   "metadata": {
    "tags": [],
    "cell_id": "00000-7984942d-6f9b-43b9-a26d-1ae43579c1da",
    "deepnote_to_be_reexecuted": false,
    "source_hash": "d194324",
    "execution_start": 1634071710589,
    "execution_millis": 7,
    "deepnote_cell_type": "code"
   },
   "source": "# Un ejemplo será filtrar los números pares de un listado del 1 al 15\nnums = [i for i in range (1,15)]\nprint(nums)\n\n# Para cada número del listado, filter ejecutará la función que retorna True o False al validar si el número ingresado es par\nnums = list(filter(lambda x: x%2==0,nums))\nprint(nums)",
   "execution_count": null,
   "outputs": [
    {
     "name": "stdout",
     "text": "[1, 2, 3, 4, 5, 6, 7, 8, 9, 10, 11, 12, 13, 14]\n[2, 4, 6, 8, 10, 12, 14]\n",
     "output_type": "stream"
    }
   ]
  },
  {
   "cell_type": "markdown",
   "source": "##\n---\n##\n#### Función Map:\n###### La función map sirve para operar objetos de un listado, usando como expresiones la función y la lista. Map retorna un iterable para cada variable operada, es decir que vamos a necesitar la función list() para recolectar los caracteres.\n## \n`mapped = list(map(f(),list))`",
   "metadata": {
    "tags": [],
    "cell_id": "00002-591c3ffc-1f83-48c5-914d-5538c40a3a4d",
    "deepnote_cell_type": "markdown"
   }
  },
  {
   "cell_type": "code",
   "metadata": {
    "tags": [],
    "cell_id": "00000-cb10c48d-c38b-4491-ae03-ca19fe6ef1c9",
    "deepnote_to_be_reexecuted": false,
    "source_hash": "9d591f5",
    "execution_start": 1634078287332,
    "execution_millis": 6,
    "deepnote_cell_type": "code"
   },
   "source": "# Se crea el listado de números a operar\nnums = [i for i in range (1,5)]\nprint(nums)\n\n# Se opera el cuadrado de cada número de la lista\nnums = list(map(lambda x : pow(x,2),nums))\nprint(nums)",
   "execution_count": null,
   "outputs": [
    {
     "name": "stdout",
     "text": "[1, 2, 3, 4]\n[1, 4, 9, 16]\n",
     "output_type": "stream"
    }
   ]
  },
  {
   "cell_type": "markdown",
   "source": "##\n---\n##\n#### Función Reduce:\n###### La función reduce sirve para operar todos objetos de un listado y reducirlos a un único valor, usando como expresiones la función y la lista. Retorna un iterable para cada variable operada, es decir que vamos a necesitar la función list() para recolectar los caracteres.\n## \nPrimero importamos la libreria que contiene reduce\n###### `from functools import reduce`\n#####\nLuego ejecutamos el código:\n###### `reduced = list(reduce(f(),list))`",
   "metadata": {
    "tags": [],
    "cell_id": "00004-5d963a7b-982e-4d24-8913-59a488f42b4e",
    "deepnote_cell_type": "markdown"
   }
  },
  {
   "cell_type": "code",
   "metadata": {
    "tags": [],
    "cell_id": "00005-5c93be72-2627-4798-badc-109747f360fb",
    "deepnote_to_be_reexecuted": false,
    "source_hash": "c69c4edb",
    "execution_start": 1634079485491,
    "execution_millis": 1,
    "deepnote_cell_type": "code"
   },
   "source": "# Debemos importar reduce\nfrom functools import reduce\n\n# Un ejemplo será multiplicar todos los valores de un listado\nnums = [2 for i in range (1,4)]\nprint(nums)\n\n# Reduce coge el primer y segundo valor, y los opera hasta llegar al final de la lista.\nnums = reduce(lambda a,b: a*b,nums)\nprint(nums)",
   "execution_count": null,
   "outputs": [
    {
     "name": "stdout",
     "text": "[2, 2, 2]\n8\n",
     "output_type": "stream"
    }
   ]
  },
  {
   "cell_type": "markdown",
   "source": "<a style='text-decoration:none;line-height:16px;display:flex;color:#5B5B62;padding:10px;justify-content:end;' href='https://deepnote.com?utm_source=created-in-deepnote-cell&projectId=be2c304b-5a85-4014-8c82-67dc5d240a02' target=\"_blank\">\n<img alt='Created in deepnote.com' style='display:inline;max-height:16px;margin:0px;margin-right:7.5px;' src='data:image/svg+xml;base64,PD94bWwgdmVyc2lvbj0iMS4wIiBlbmNvZGluZz0iVVRGLTgiPz4KPHN2ZyB3aWR0aD0iODBweCIgaGVpZ2h0PSI4MHB4IiB2aWV3Qm94PSIwIDAgODAgODAiIHZlcnNpb249IjEuMSIgeG1sbnM9Imh0dHA6Ly93d3cudzMub3JnLzIwMDAvc3ZnIiB4bWxuczp4bGluaz0iaHR0cDovL3d3dy53My5vcmcvMTk5OS94bGluayI+CiAgICA8IS0tIEdlbmVyYXRvcjogU2tldGNoIDU0LjEgKDc2NDkwKSAtIGh0dHBzOi8vc2tldGNoYXBwLmNvbSAtLT4KICAgIDx0aXRsZT5Hcm91cCAzPC90aXRsZT4KICAgIDxkZXNjPkNyZWF0ZWQgd2l0aCBTa2V0Y2guPC9kZXNjPgogICAgPGcgaWQ9IkxhbmRpbmciIHN0cm9rZT0ibm9uZSIgc3Ryb2tlLXdpZHRoPSIxIiBmaWxsPSJub25lIiBmaWxsLXJ1bGU9ImV2ZW5vZGQiPgogICAgICAgIDxnIGlkPSJBcnRib2FyZCIgdHJhbnNmb3JtPSJ0cmFuc2xhdGUoLTEyMzUuMDAwMDAwLCAtNzkuMDAwMDAwKSI+CiAgICAgICAgICAgIDxnIGlkPSJHcm91cC0zIiB0cmFuc2Zvcm09InRyYW5zbGF0ZSgxMjM1LjAwMDAwMCwgNzkuMDAwMDAwKSI+CiAgICAgICAgICAgICAgICA8cG9seWdvbiBpZD0iUGF0aC0yMCIgZmlsbD0iIzAyNjVCNCIgcG9pbnRzPSIyLjM3NjIzNzYyIDgwIDM4LjA0NzY2NjcgODAgNTcuODIxNzgyMiA3My44MDU3NTkyIDU3LjgyMTc4MjIgMzIuNzU5MjczOSAzOS4xNDAyMjc4IDMxLjY4MzE2ODMiPjwvcG9seWdvbj4KICAgICAgICAgICAgICAgIDxwYXRoIGQ9Ik0zNS4wMDc3MTgsODAgQzQyLjkwNjIwMDcsNzYuNDU0OTM1OCA0Ny41NjQ5MTY3LDcxLjU0MjI2NzEgNDguOTgzODY2LDY1LjI2MTk5MzkgQzUxLjExMjI4OTksNTUuODQxNTg0MiA0MS42NzcxNzk1LDQ5LjIxMjIyODQgMjUuNjIzOTg0Niw0OS4yMTIyMjg0IEMyNS40ODQ5Mjg5LDQ5LjEyNjg0NDggMjkuODI2MTI5Niw0My4yODM4MjQ4IDM4LjY0NzU4NjksMzEuNjgzMTY4MyBMNzIuODcxMjg3MSwzMi41NTQ0MjUgTDY1LjI4MDk3Myw2Ny42NzYzNDIxIEw1MS4xMTIyODk5LDc3LjM3NjE0NCBMMzUuMDA3NzE4LDgwIFoiIGlkPSJQYXRoLTIyIiBmaWxsPSIjMDAyODY4Ij48L3BhdGg+CiAgICAgICAgICAgICAgICA8cGF0aCBkPSJNMCwzNy43MzA0NDA1IEwyNy4xMTQ1MzcsMC4yNTcxMTE0MzYgQzYyLjM3MTUxMjMsLTEuOTkwNzE3MDEgODAsMTAuNTAwMzkyNyA4MCwzNy43MzA0NDA1IEM4MCw2NC45NjA0ODgyIDY0Ljc3NjUwMzgsNzkuMDUwMzQxNCAzNC4zMjk1MTEzLDgwIEM0Ny4wNTUzNDg5LDc3LjU2NzA4MDggNTMuNDE4MjY3Nyw3MC4zMTM2MTAzIDUzLjQxODI2NzcsNTguMjM5NTg4NSBDNTMuNDE4MjY3Nyw0MC4xMjg1NTU3IDM2LjMwMzk1NDQsMzcuNzMwNDQwNSAyNS4yMjc0MTcsMzcuNzMwNDQwNSBDMTcuODQzMDU4NiwzNy43MzA0NDA1IDkuNDMzOTE5NjYsMzcuNzMwNDQwNSAwLDM3LjczMDQ0MDUgWiIgaWQ9IlBhdGgtMTkiIGZpbGw9IiMzNzkzRUYiPjwvcGF0aD4KICAgICAgICAgICAgPC9nPgogICAgICAgIDwvZz4KICAgIDwvZz4KPC9zdmc+' > </img>\nCreated in <span style='font-weight:600;margin-left:4px;'>Deepnote</span></a>",
   "metadata": {
    "tags": [],
    "created_in_deepnote_cell": true,
    "deepnote_cell_type": "markdown"
   }
  }
 ],
 "nbformat": 4,
 "nbformat_minor": 2,
 "metadata": {
  "orig_nbformat": 2,
  "deepnote": {
   "is_reactive": false
  },
  "deepnote_notebook_id": "c51cb9c1-15c4-4077-b086-538e1bc003cf",
  "deepnote_execution_queue": []
 }
}