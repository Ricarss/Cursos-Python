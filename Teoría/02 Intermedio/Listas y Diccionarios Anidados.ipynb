{
 "cells": [
  {
   "cell_type": "markdown",
   "source": "# Listas y Diccionarios Anidados\n---\n##\n##### Python permite generar listados que contengan listas, y listas que contengan diccionarios.\n##\n---\n##\n### Super Listas\n## \n###### Para instanciarla solamente se requiere definir el arreglo y especificar su contenido por cada diccionario:\n``` \nsp_lst = [\n    {\n        'key1' : 'value1',\n        'key2' : 'value2',\n        'key3' : 'value3',\n        'key4' : 'value4'\n    }\n]\n```\n\n### Super Diccionarios\n## \n###### Para instanciarla solamente se requiere definir el diccionario y especificar las llaves o valores que sean arreglos:\n``` \nsp_dic = {\n        'key1' : [a,b,c,d],\n        'key2' : [1,2,3,4],\n        'key3' : [dog,cat,snail]\n}\n```\n##\n---",
   "metadata": {
    "tags": [],
    "cell_id": "00000-d8919550-7ed3-42a9-9dad-41618ed81577",
    "deepnote_cell_type": "markdown"
   }
  },
  {
   "cell_type": "markdown",
   "source": "### Iteraciones For en Listas y Diccionarios anidados\n##\n---\n##\n#### Diccionarios anidados en una lista:",
   "metadata": {
    "tags": [],
    "cell_id": "00001-c63ba748-dffd-4b42-88af-9677c27cb615",
    "deepnote_cell_type": "markdown"
   }
  },
  {
   "cell_type": "code",
   "metadata": {
    "tags": [],
    "cell_id": "00000-64a898c8-56e6-4b8a-9c7e-ba8a9628105c",
    "deepnote_to_be_reexecuted": false,
    "source_hash": "9ca4341a",
    "execution_start": 1634060461281,
    "execution_millis": 16,
    "deepnote_cell_type": "code"
   },
   "source": "# Uso de For Loop en diccionarios anidados en una lista:\nsp_lst = [\n{\n    'key10' : 'value10',\n    'key20' : 'value20',\n    'key30' : 'value30',\n    'key40' : 'value40'\n},\n{\n    'key11' : 'value11',\n    'key21' : 'value21',\n    'key31' : 'value31',\n    'key41' : 'value41'\n},\n{\n    'key12' : 'value12',\n    'key22' : 'value22',\n    'key32' : 'value32',\n    'key42' : 'value42'\n}\n]\n\nfor i in sp_lst:\n    c = 1\n    for key,value in i.items():\n        print(\"En la posición '\"+str(c)+\"' se tiene la llave '\"+key+\"' con valor '\"+value+\"'\")\n    c = c+1",
   "outputs": [
    {
     "name": "stdout",
     "text": "En la posición '1' se tiene la llave 'key10' con valor 'value10'\nEn la posición '1' se tiene la llave 'key20' con valor 'value20'\nEn la posición '1' se tiene la llave 'key30' con valor 'value30'\nEn la posición '1' se tiene la llave 'key40' con valor 'value40'\nEn la posición '1' se tiene la llave 'key11' con valor 'value11'\nEn la posición '1' se tiene la llave 'key21' con valor 'value21'\nEn la posición '1' se tiene la llave 'key31' con valor 'value31'\nEn la posición '1' se tiene la llave 'key41' con valor 'value41'\nEn la posición '1' se tiene la llave 'key12' con valor 'value12'\nEn la posición '1' se tiene la llave 'key22' con valor 'value22'\nEn la posición '1' se tiene la llave 'key32' con valor 'value32'\nEn la posición '1' se tiene la llave 'key42' con valor 'value42'\n",
     "output_type": "stream"
    }
   ],
   "execution_count": null
  },
  {
   "cell_type": "markdown",
   "source": "##\n#### Listas anidadas a un diccionario:",
   "metadata": {
    "tags": [],
    "cell_id": "00003-038a9ef9-9323-488a-9fc6-1f38c0fd7a4b",
    "deepnote_cell_type": "markdown"
   }
  },
  {
   "cell_type": "code",
   "source": "# Uso de For Loop en listas anidadas a un diccionario\n\nsp_dic = {\n    'key1' : ['a','b','c','d'],\n    'key2' : [1,2,3,4],\n    'key3' : ['dog','cat','snail']\n}\n\nfor value in sp_dic.values():\n    for i in value:\n        print(i)",
   "metadata": {
    "tags": [],
    "cell_id": "00004-476e7821-0d16-4397-9242-4f0932b08199",
    "deepnote_to_be_reexecuted": false,
    "source_hash": "1cca96f4",
    "execution_start": 1634067082715,
    "execution_millis": 6,
    "deepnote_cell_type": "code"
   },
   "outputs": [
    {
     "name": "stdout",
     "text": "a\nb\nc\nd\n1\n2\n3\n4\ndog\ncat\nsnail\n",
     "output_type": "stream"
    }
   ],
   "execution_count": null
  },
  {
   "cell_type": "markdown",
   "source": "<a style='text-decoration:none;line-height:16px;display:flex;color:#5B5B62;padding:10px;justify-content:end;' href='https://deepnote.com?utm_source=created-in-deepnote-cell&projectId=be2c304b-5a85-4014-8c82-67dc5d240a02' target=\"_blank\">\n<img alt='Created in deepnote.com' style='display:inline;max-height:16px;margin:0px;margin-right:7.5px;' src='data:image/svg+xml;base64,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' > </img>\nCreated in <span style='font-weight:600;margin-left:4px;'>Deepnote</span></a>",
   "metadata": {
    "tags": [],
    "created_in_deepnote_cell": true,
    "deepnote_cell_type": "markdown"
   }
  }
 ],
 "nbformat": 4,
 "nbformat_minor": 2,
 "metadata": {
  "orig_nbformat": 2,
  "deepnote": {
   "is_reactive": false
  },
  "deepnote_notebook_id": "948f8157-1311-47fe-b6cd-44fb4baac673",
  "deepnote_execution_queue": []
 }
}