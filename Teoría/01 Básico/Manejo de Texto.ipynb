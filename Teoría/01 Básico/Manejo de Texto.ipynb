{
 "cells": [
  {
   "cell_type": "markdown",
   "source": "## Manejo de Texto",
   "metadata": {
    "tags": [],
    "cell_id": "00000-9b3e78e4-6608-43fc-9a11-6842afae1971",
    "deepnote_cell_type": "markdown"
   }
  },
  {
   "cell_type": "markdown",
   "source": "### Las palabras son un array de caracteres\nUna cadena de texto (String) es un array de caracteres []",
   "metadata": {
    "tags": [],
    "cell_id": "00002-eb1c0341-fddd-4114-812c-19aa34d6f83b",
    "deepnote_cell_type": "markdown"
   }
  },
  {
   "cell_type": "code",
   "metadata": {
    "tags": [],
    "cell_id": "00000-e50c00ee-fb36-421a-b18f-ff2796b39d55",
    "deepnote_to_be_reexecuted": false,
    "source_hash": "4d5c76ce",
    "execution_start": 1634013127588,
    "execution_millis": 10,
    "deepnote_cell_type": "code"
   },
   "source": "texto = \"Ricardo\"\nprint(texto[4])\n\n# Para conocer la cantidad de datos en un arreglo, se puede usar la función \"len\"\nlen(texto)",
   "execution_count": null,
   "outputs": [
    {
     "name": "stdout",
     "text": "r\n",
     "output_type": "stream"
    },
    {
     "output_type": "execute_result",
     "execution_count": 1,
     "data": {
      "text/plain": "7"
     },
     "metadata": {}
    }
   ]
  },
  {
   "cell_type": "markdown",
   "source": "Toda cadena de texto puede ser dividida por trozos ingresando el rango dentro de los [] = texto[0:3]",
   "metadata": {
    "tags": [],
    "cell_id": "00003-bf7136e8-4ca3-4aef-819e-1e27e404325d",
    "deepnote_cell_type": "markdown"
   }
  },
  {
   "cell_type": "code",
   "metadata": {
    "tags": [],
    "cell_id": "00005-1875808f-d50f-4c88-9033-34f802fec9fa",
    "deepnote_to_be_reexecuted": false,
    "source_hash": "1d9c4f7",
    "execution_start": 1634005639056,
    "execution_millis": 7,
    "deepnote_cell_type": "code"
   },
   "source": "print(texto[:3])\nprint(texto[3:])",
   "execution_count": null,
   "outputs": [
    {
     "name": "stdout",
     "text": "Ric\nardo\n",
     "output_type": "stream"
    }
   ]
  },
  {
   "cell_type": "markdown",
   "source": "Adicionalmente, dentro del rango se puede indicar la cantidad de saltos en orden secuencial o inverso:",
   "metadata": {
    "tags": [],
    "is_collapsed": false,
    "cell_id": "00005-8775ff58-c845-4eac-b20b-934ef3f2b4cf",
    "deepnote_cell_type": "text-cell-p"
   }
  },
  {
   "cell_type": "code",
   "metadata": {
    "tags": [],
    "cell_id": "00005-9045c7d6-bfd0-4ff5-884e-f70266915fa4",
    "deepnote_to_be_reexecuted": false,
    "source_hash": "5dc07d16",
    "execution_start": 1634005726364,
    "execution_millis": 5,
    "deepnote_cell_type": "code"
   },
   "source": "print(texto[0:5:2])\nprint(texto[::-1])",
   "execution_count": null,
   "outputs": [
    {
     "name": "stdout",
     "text": "Rcr\nodraciR\n",
     "output_type": "stream"
    }
   ]
  },
  {
   "cell_type": "markdown",
   "source": "### Manejo de caracteres",
   "metadata": {
    "tags": [],
    "cell_id": "00007-a30344aa-df6c-449d-a2e8-c0f93aaaf93b",
    "deepnote_cell_type": "markdown"
   }
  },
  {
   "cell_type": "markdown",
   "source": "Con los siguientes comandos se puede manejar las minúsculas y mayúsculas de un documento",
   "metadata": {
    "tags": [],
    "cell_id": "00008-70f7cf04-80b1-4317-800f-b9afe361184d",
    "deepnote_cell_type": "markdown"
   }
  },
  {
   "cell_type": "code",
   "metadata": {
    "tags": [],
    "cell_id": "00009-bb7d7f54-aac0-409a-af27-dd05ae586583",
    "deepnote_to_be_reexecuted": false,
    "source_hash": "792559c9",
    "execution_start": 1634006340172,
    "execution_millis": 4,
    "deepnote_cell_type": "code"
   },
   "source": "txt = \"texto de prueba\"\n\n# Con capitalize se puede convertir el primer caracter en mayúscula:\nprint(txt.capitalize())\n\n# Con upper se convierten todos los caracteres en mayúscula:\nprint(txt.upper())\n\n# Con lower se convierten todos los caracteres en minúscula:\nprint(txt.lower())",
   "execution_count": null,
   "outputs": [
    {
     "name": "stdout",
     "text": "Texto de prueba\nTEXTO DE PRUEBA\ntexto de prueba\n",
     "output_type": "stream"
    }
   ]
  },
  {
   "cell_type": "markdown",
   "source": "",
   "metadata": {
    "tags": [],
    "cell_id": "00009-c53642a8-bd5c-43d7-bd2d-cabf15c1be74",
    "deepnote_cell_type": "markdown"
   }
  },
  {
   "cell_type": "markdown",
   "source": "Adicionalmente se pueden suprimir los espacios o remplazar caracteres",
   "metadata": {
    "tags": [],
    "cell_id": "00011-2e8ba25b-2ffe-4e9f-8c19-baf0873be137",
    "deepnote_cell_type": "markdown"
   }
  },
  {
   "cell_type": "code",
   "metadata": {
    "tags": [],
    "cell_id": "00012-f6ae6377-7cda-4d13-aeb2-87cb8f844c02",
    "deepnote_to_be_reexecuted": false,
    "source_hash": "e9c2cea7",
    "execution_start": 1634006731362,
    "execution_millis": 15,
    "deepnote_cell_type": "code"
   },
   "source": "# Para suprimir caracteres, se puede utilizar el comando \"strip\"\nprint(txt.strip('t'))\nprint(txt.strip())\n\n# Para remplazar caracteres, se puede utilizar el comando \"replace\"\nprint(txt.replace('o','e'))",
   "execution_count": null,
   "outputs": [
    {
     "name": "stdout",
     "text": "exto de prueba\ntexto de prueba\ntexte de prueba\n",
     "output_type": "stream"
    }
   ]
  },
  {
   "cell_type": "code",
   "metadata": {
    "tags": [],
    "cell_id": "00013-2cf40291-a0be-40fd-8869-ebd5dab653dd",
    "deepnote_cell_type": "code"
   },
   "source": "",
   "execution_count": null,
   "outputs": []
  },
  {
   "cell_type": "markdown",
   "source": "<a style='text-decoration:none;line-height:16px;display:flex;color:#5B5B62;padding:10px;justify-content:end;' href='https://deepnote.com?utm_source=created-in-deepnote-cell&projectId=be2c304b-5a85-4014-8c82-67dc5d240a02' target=\"_blank\">\n<img alt='Created in deepnote.com' style='display:inline;max-height:16px;margin:0px;margin-right:7.5px;' src='data:image/svg+xml;base64,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' > </img>\nCreated in <span style='font-weight:600;margin-left:4px;'>Deepnote</span></a>",
   "metadata": {
    "tags": [],
    "created_in_deepnote_cell": true,
    "deepnote_cell_type": "markdown"
   }
  }
 ],
 "nbformat": 4,
 "nbformat_minor": 2,
 "metadata": {
  "orig_nbformat": 2,
  "deepnote": {
   "is_reactive": false
  },
  "deepnote_notebook_id": "20cc0bb3-5d09-4121-a251-85470ec4a31a",
  "deepnote_execution_queue": []
 }
}