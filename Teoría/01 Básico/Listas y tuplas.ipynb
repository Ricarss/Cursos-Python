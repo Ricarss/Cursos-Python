{
 "cells": [
  {
   "cell_type": "markdown",
   "source": "# Listas, Tuplas y Diccionarios en Python\n---\n##\n### Listas (Arrays)\n####\n###### Las listas son un \"arreglo\" de objetos contenidos de forma lineal.\n#### \n###### Se puede declarar un arreglo como cualquier otro objeto, igualando este a un vector [ ].\n####\n`ls = []` \n`ls = [0,1,2,3]`\n`ls = ['gato','perro','chancho']` \n#### \n",
   "metadata": {
    "tags": [],
    "cell_id": "00001-52ee4846-9d28-416d-b82e-7736daa5f5f5",
    "deepnote_cell_type": "markdown"
   }
  },
  {
   "cell_type": "code",
   "metadata": {
    "tags": [],
    "cell_id": "00002-83280a8b-b553-4630-8fd9-c78bccf2f296",
    "deepnote_to_be_reexecuted": false,
    "source_hash": "5ead9a5b",
    "execution_start": 1634038720173,
    "execution_millis": 4,
    "deepnote_cell_type": "code"
   },
   "source": "ls = [0,1,2]\n\n# Se puede conocer el largo de la lista mediante la función \"len\"\nlen(ls)",
   "outputs": [
    {
     "output_type": "execute_result",
     "execution_count": 2,
     "data": {
      "text/plain": "3"
     },
     "metadata": {}
    }
   ],
   "execution_count": null
  },
  {
   "cell_type": "code",
   "metadata": {
    "tags": [],
    "cell_id": "00003-7de3147d-73d7-46b3-b322-22a44f0512c2",
    "deepnote_to_be_reexecuted": false,
    "source_hash": "e35d0196",
    "execution_start": 1634038720173,
    "execution_millis": 4,
    "deepnote_cell_type": "code"
   },
   "source": "# Podemos agregar un nuevo objeto en la lista mediante \"append\"\nls.append(3)\nprint(ls)",
   "outputs": [
    {
     "name": "stdout",
     "text": "[0, 1, 2, 3]\n[0, 1, 2, 3]\n",
     "output_type": "stream"
    }
   ],
   "execution_count": null
  },
  {
   "cell_type": "code",
   "metadata": {
    "tags": [],
    "cell_id": "00004-f07b8d14-288a-4c6e-97c9-7e18386220db",
    "deepnote_to_be_reexecuted": false,
    "source_hash": "33c4079e",
    "execution_start": 1634038778394,
    "execution_millis": 7,
    "deepnote_cell_type": "code"
   },
   "source": "# Podemos eliminar un objeto en la lista mediante \"pop\", indicando la posición a eliminar\nls.pop(3)\nprint(ls)",
   "outputs": [
    {
     "name": "stdout",
     "text": "[0, 1, 2]\n",
     "output_type": "stream"
    }
   ],
   "execution_count": null
  },
  {
   "cell_type": "code",
   "metadata": {
    "tags": [],
    "cell_id": "00005-9e2521a6-bec2-4741-92d8-41ffe0c18875",
    "deepnote_to_be_reexecuted": false,
    "source_hash": "19c824d8",
    "execution_start": 1634038946100,
    "execution_millis": 14,
    "deepnote_cell_type": "code"
   },
   "source": "# Podemos fraccionar las listas o recorrerlas mediante [::]\nprint(ls[0:1])\nprint(ls[1:2])\nprint(ls[::2])\nprint(ls[::-1])",
   "outputs": [
    {
     "name": "stdout",
     "text": "[0]\n[1]\n[0, 2]\n[2, 1, 0]\n",
     "output_type": "stream"
    }
   ],
   "execution_count": null
  },
  {
   "cell_type": "code",
   "metadata": {
    "tags": [],
    "cell_id": "00005-b18e2c15-8290-4b5a-b79c-5d721eaf914f",
    "deepnote_to_be_reexecuted": false,
    "source_hash": "b1ec5038",
    "execution_start": 1634046926499,
    "execution_millis": 1,
    "deepnote_cell_type": "code"
   },
   "source": "# Se puede operar sumas o multiplicaciones con las listas:\nprint([0,1,0]+[1,0,1])\nprint([0,0,0]*3)",
   "outputs": [
    {
     "name": "stdout",
     "text": "[0, 1, 0, 1, 0, 1]\n[0, 0, 0, 0, 0, 0, 0, 0, 0]\n",
     "output_type": "stream"
    }
   ],
   "execution_count": 1
  },
  {
   "cell_type": "markdown",
   "source": "---\n##\n### Tuplas\n##\n##### Son arreglos con una longitud fijada, no se pueden eliminar o agregar caracteres. Se definen usando los paréntesis ():\n##\n`tupla = (0,1,2,3,4,5)`\n\n---",
   "metadata": {
    "tags": [],
    "cell_id": "00005-5108a7ba-8f6c-46a0-a777-e5ab1e1619c4",
    "deepnote_cell_type": "markdown"
   }
  },
  {
   "cell_type": "markdown",
   "source": "<a style='text-decoration:none;line-height:16px;display:flex;color:#5B5B62;padding:10px;justify-content:end;' href='https://deepnote.com?utm_source=created-in-deepnote-cell&projectId=be2c304b-5a85-4014-8c82-67dc5d240a02' target=\"_blank\">\n<img alt='Created in deepnote.com' style='display:inline;max-height:16px;margin:0px;margin-right:7.5px;' src='data:image/svg+xml;base64,PD94bWwgdmVyc2lvbj0iMS4wIiBlbmNvZGluZz0iVVRGLTgiPz4KPHN2ZyB3aWR0aD0iODBweCIgaGVpZ2h0PSI4MHB4IiB2aWV3Qm94PSIwIDAgODAgODAiIHZlcnNpb249IjEuMSIgeG1sbnM9Imh0dHA6Ly93d3cudzMub3JnLzIwMDAvc3ZnIiB4bWxuczp4bGluaz0iaHR0cDovL3d3dy53My5vcmcvMTk5OS94bGluayI+CiAgICA8IS0tIEdlbmVyYXRvcjogU2tldGNoIDU0LjEgKDc2NDkwKSAtIGh0dHBzOi8vc2tldGNoYXBwLmNvbSAtLT4KICAgIDx0aXRsZT5Hcm91cCAzPC90aXRsZT4KICAgIDxkZXNjPkNyZWF0ZWQgd2l0aCBTa2V0Y2guPC9kZXNjPgogICAgPGcgaWQ9IkxhbmRpbmciIHN0cm9rZT0ibm9uZSIgc3Ryb2tlLXdpZHRoPSIxIiBmaWxsPSJub25lIiBmaWxsLXJ1bGU9ImV2ZW5vZGQiPgogICAgICAgIDxnIGlkPSJBcnRib2FyZCIgdHJhbnNmb3JtPSJ0cmFuc2xhdGUoLTEyMzUuMDAwMDAwLCAtNzkuMDAwMDAwKSI+CiAgICAgICAgICAgIDxnIGlkPSJHcm91cC0zIiB0cmFuc2Zvcm09InRyYW5zbGF0ZSgxMjM1LjAwMDAwMCwgNzkuMDAwMDAwKSI+CiAgICAgICAgICAgICAgICA8cG9seWdvbiBpZD0iUGF0aC0yMCIgZmlsbD0iIzAyNjVCNCIgcG9pbnRzPSIyLjM3NjIzNzYyIDgwIDM4LjA0NzY2NjcgODAgNTcuODIxNzgyMiA3My44MDU3NTkyIDU3LjgyMTc4MjIgMzIuNzU5MjczOSAzOS4xNDAyMjc4IDMxLjY4MzE2ODMiPjwvcG9seWdvbj4KICAgICAgICAgICAgICAgIDxwYXRoIGQ9Ik0zNS4wMDc3MTgsODAgQzQyLjkwNjIwMDcsNzYuNDU0OTM1OCA0Ny41NjQ5MTY3LDcxLjU0MjI2NzEgNDguOTgzODY2LDY1LjI2MTk5MzkgQzUxLjExMjI4OTksNTUuODQxNTg0MiA0MS42NzcxNzk1LDQ5LjIxMjIyODQgMjUuNjIzOTg0Niw0OS4yMTIyMjg0IEMyNS40ODQ5Mjg5LDQ5LjEyNjg0NDggMjkuODI2MTI5Niw0My4yODM4MjQ4IDM4LjY0NzU4NjksMzEuNjgzMTY4MyBMNzIuODcxMjg3MSwzMi41NTQ0MjUgTDY1LjI4MDk3Myw2Ny42NzYzNDIxIEw1MS4xMTIyODk5LDc3LjM3NjE0NCBMMzUuMDA3NzE4LDgwIFoiIGlkPSJQYXRoLTIyIiBmaWxsPSIjMDAyODY4Ij48L3BhdGg+CiAgICAgICAgICAgICAgICA8cGF0aCBkPSJNMCwzNy43MzA0NDA1IEwyNy4xMTQ1MzcsMC4yNTcxMTE0MzYgQzYyLjM3MTUxMjMsLTEuOTkwNzE3MDEgODAsMTAuNTAwMzkyNyA4MCwzNy43MzA0NDA1IEM4MCw2NC45NjA0ODgyIDY0Ljc3NjUwMzgsNzkuMDUwMzQxNCAzNC4zMjk1MTEzLDgwIEM0Ny4wNTUzNDg5LDc3LjU2NzA4MDggNTMuNDE4MjY3Nyw3MC4zMTM2MTAzIDUzLjQxODI2NzcsNTguMjM5NTg4NSBDNTMuNDE4MjY3Nyw0MC4xMjg1NTU3IDM2LjMwMzk1NDQsMzcuNzMwNDQwNSAyNS4yMjc0MTcsMzcuNzMwNDQwNSBDMTcuODQzMDU4NiwzNy43MzA0NDA1IDkuNDMzOTE5NjYsMzcuNzMwNDQwNSAwLDM3LjczMDQ0MDUgWiIgaWQ9IlBhdGgtMTkiIGZpbGw9IiMzNzkzRUYiPjwvcGF0aD4KICAgICAgICAgICAgPC9nPgogICAgICAgIDwvZz4KICAgIDwvZz4KPC9zdmc+' > </img>\nCreated in <span style='font-weight:600;margin-left:4px;'>Deepnote</span></a>",
   "metadata": {
    "tags": [],
    "created_in_deepnote_cell": true,
    "deepnote_cell_type": "markdown"
   }
  }
 ],
 "nbformat": 4,
 "nbformat_minor": 2,
 "metadata": {
  "orig_nbformat": 2,
  "deepnote": {
   "is_reactive": false
  },
  "deepnote_notebook_id": "3ecf9def-64a6-4d64-a62e-72116b9a08d5",
  "deepnote_execution_queue": []
 }
}