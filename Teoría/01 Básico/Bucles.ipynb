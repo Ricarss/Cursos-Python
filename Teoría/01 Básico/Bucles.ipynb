{
 "cells": [
  {
   "cell_type": "markdown",
   "source": "## BUCLES EN PYTHON",
   "metadata": {
    "tags": [],
    "cell_id": "00000-d806a483-4052-452d-8c22-259e877a6d47",
    "deepnote_cell_type": "markdown"
   }
  },
  {
   "cell_type": "markdown",
   "source": "## Bucles While\n###### Su estructura permite restringir la ejecución cuando se cumplen ciertas condiciones sin considerar la cantidad de iteraciones: \n###### - while ***[condición booleana]*** : (de ser True, se ejecuta lo descrito líneas abajo)",
   "metadata": {
    "tags": [],
    "cell_id": "00001-42ffea29-47f7-4dbf-ad0b-fc8a9e6e5b47",
    "deepnote_cell_type": "markdown"
   }
  },
  {
   "cell_type": "code",
   "metadata": {
    "tags": [],
    "cell_id": "00002-c15cdeee-3826-4ac2-854e-8787bae3a486",
    "deepnote_to_be_reexecuted": false,
    "source_hash": "65110a4a",
    "execution_start": 1634012723042,
    "execution_millis": 7,
    "deepnote_cell_type": "code"
   },
   "source": "i = 0\n\nwhile i < 5:\n    print(\"Esta es la iteración N° \"+str(i+1))\n    i=i+1",
   "execution_count": null,
   "outputs": [
    {
     "name": "stdout",
     "text": "Esta es la iteración N° 1\nEsta es la iteración N° 2\nEsta es la iteración N° 3\nEsta es la iteración N° 4\nEsta es la iteración N° 5\n",
     "output_type": "stream"
    }
   ]
  },
  {
   "cell_type": "markdown",
   "source": "## Bucles For\n###### Su estructura permite limitar la cantidad de iteraciones, facilitando el trabajo con arreglos  \n###### for ***[variable iterable]*** in  ***[rango numérico o arreglo]***",
   "metadata": {
    "tags": [],
    "cell_id": "00003-7d6ee882-1e9c-49e4-a8b4-a6c3ca881cb8",
    "deepnote_cell_type": "markdown"
   }
  },
  {
   "cell_type": "code",
   "metadata": {
    "tags": [],
    "cell_id": "00004-32ecf41f-e41a-4896-aa14-a243c813c8f0",
    "deepnote_to_be_reexecuted": false,
    "source_hash": "977c8719",
    "execution_start": 1634013944264,
    "execution_millis": 1,
    "deepnote_cell_type": "code"
   },
   "source": "# Para definir un rango, se puede usar la función \"range\"\nlong = range(3)\n\n# For simple\nfor i in long:\n    print(\"Soy número: \"+str(i))\n\n# For con arreglos\ncomidas = [\"arroz\",\"puré\",\"pollo\"]\nfor plato in comidas:\n    print(plato)\n\n# For de caracteres\ntxt = 'Texto'\nfor char in txt:\n    print(char)",
   "execution_count": null,
   "outputs": [
    {
     "name": "stdout",
     "text": "Soy número: 0\nSoy número: 1\nSoy número: 2\narroz\npuré\npollo\nT\ne\nx\nt\no\n",
     "output_type": "stream"
    }
   ]
  },
  {
   "cell_type": "markdown",
   "source": "## Funciones para Gestionar las Iteraciones\n###### Se pueden utilizar las siguientes funciones para detener, ignorar u obviar los comandos que siguen en la iteración:",
   "metadata": {
    "tags": [],
    "cell_id": "00005-9ac3bf90-4806-468f-b58a-162db5fc8d59",
    "deepnote_cell_type": "markdown"
   }
  },
  {
   "cell_type": "code",
   "metadata": {
    "tags": [],
    "cell_id": "00006-4c270e32-d1cf-4f9a-ae97-3cee8c7a9110",
    "deepnote_to_be_reexecuted": false,
    "source_hash": "e137c2ee",
    "execution_start": 1634014197771,
    "execution_millis": 10,
    "deepnote_cell_type": "code"
   },
   "source": "# Para rellenar funciones o bucles se usa 'pass':\nfor i in range(1000):\n    pass\n\n# Para continuar a la siguiente iteración se usa 'continue'\nfor i in range(3):\n    if i==2:\n        continue\n    print(str(i))\n",
   "execution_count": null,
   "outputs": [
    {
     "name": "stdout",
     "text": "0\n1\n",
     "output_type": "stream"
    }
   ]
  },
  {
   "cell_type": "code",
   "metadata": {
    "tags": [],
    "cell_id": "00007-9db67a92-ffa5-4955-8af6-da197d691baf",
    "deepnote_to_be_reexecuted": false,
    "source_hash": "39411c64",
    "execution_start": 1634014229361,
    "execution_millis": 6,
    "deepnote_cell_type": "code"
   },
   "source": "# Para detener el bucle se usa 'break':\nfor i in range(1000000):\n    print(str(i))\n    if i==2:\n        break",
   "execution_count": null,
   "outputs": [
    {
     "name": "stdout",
     "text": "0\n1\n2\n",
     "output_type": "stream"
    }
   ]
  },
  {
   "cell_type": "markdown",
   "source": "<a style='text-decoration:none;line-height:16px;display:flex;color:#5B5B62;padding:10px;justify-content:end;' href='https://deepnote.com?utm_source=created-in-deepnote-cell&projectId=be2c304b-5a85-4014-8c82-67dc5d240a02' target=\"_blank\">\n<img alt='Created in deepnote.com' style='display:inline;max-height:16px;margin:0px;margin-right:7.5px;' src='data:image/svg+xml;base64,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' > </img>\nCreated in <span style='font-weight:600;margin-left:4px;'>Deepnote</span></a>",
   "metadata": {
    "tags": [],
    "created_in_deepnote_cell": true,
    "deepnote_cell_type": "markdown"
   }
  }
 ],
 "nbformat": 4,
 "nbformat_minor": 2,
 "metadata": {
  "orig_nbformat": 2,
  "deepnote": {
   "is_reactive": false
  },
  "deepnote_notebook_id": "6ab7b937-fe4a-4cd1-9c21-b0441a15226a",
  "deepnote_execution_queue": []
 }
}