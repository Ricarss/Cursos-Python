{
 "cells": [
  {
   "cell_type": "markdown",
   "source": "# Diccionarios en Python\n## \n---\n##\n###### Los diccionarios son un método de almacenamiento de datos distintos de las listas. En el caso de las listas, uno accedia a los datos mediante su posicionamiento. En el caso de diccionarios, se utilizará una indexación de llaves y valores.\n##\n---\n##\n### Declaración de un diccionario\n###### Para instanciar un nuevo diccionario, se debe igualar la variable a un {}. Dentro de los corchetes, debemos agregar las llaves y sus valores mediante la siguiente estructura: 'key':'value.\n\n`dic = {'132' : 'Ricardo', '234' : 'Roberto', '431' : 'Platzi'}`\n\n---\n##\n### Uso de loop For en Diccionarios\n## \n###### Al igual que con listas, uno puede usar el loop \"FOR\" para navegar por las llaves y valores de cada diccionario.\n\n###### Para ese caso, se deben usar las funciones .keys(), .value() o .items()\n`dic.values()` `dic.keys()` `dic.items()`\n\n###### Estos vectores sirven como iterables para la ejecución de un bucle for",
   "metadata": {
    "tags": [],
    "cell_id": "00001-b3a87285-e960-4cd3-8208-605dcff32480",
    "deepnote_cell_type": "markdown"
   }
  },
  {
   "cell_type": "code",
   "metadata": {
    "tags": [],
    "cell_id": "00001-ede01f48-810c-4385-8a32-946e2f29eaba",
    "deepnote_to_be_reexecuted": false,
    "source_hash": "af29f590",
    "execution_start": 1634052376537,
    "execution_millis": 10,
    "deepnote_cell_type": "code"
   },
   "source": "perros = {\n    'Trina' : 'Gorda',\n    'Kiara' : 'Fiel',\n    'Leia' : 'Mañosa',\n    'Simba' : 'Sabio'\n}\n\n# Ejemplo de uso de .values()\nprint(perros.values())\n\n# Ejemplo de uso de .keys()\nprint(perros.keys())\n\n# Ejemplo de uso de .items(), la cual devuelve dos valores (keys y values)\nprint(perros.items())\n",
   "execution_count": 3,
   "outputs": [
    {
     "name": "stdout",
     "text": "dict_values(['Gorda', 'Fiel', 'Mañosa', 'Sabio'])\ndict_keys(['Trina', 'Kiara', 'Leia', 'Simba'])\ndict_items([('Trina', 'Gorda'), ('Kiara', 'Fiel'), ('Leia', 'Mañosa'), ('Simba', 'Sabio')])\n",
     "output_type": "stream"
    }
   ]
  },
  {
   "cell_type": "markdown",
   "source": "<a style='text-decoration:none;line-height:16px;display:flex;color:#5B5B62;padding:10px;justify-content:end;' href='https://deepnote.com?utm_source=created-in-deepnote-cell&projectId=8012ba0d-f179-4c74-a480-22ec0d502df3' target=\"_blank\">\n<img alt='Created in deepnote.com' style='display:inline;max-height:16px;margin:0px;margin-right:7.5px;' src='data:image/svg+xml;base64,PD94bWwgdmVyc2lvbj0iMS4wIiBlbmNvZGluZz0iVVRGLTgiPz4KPHN2ZyB3aWR0aD0iODBweCIgaGVpZ2h0PSI4MHB4IiB2aWV3Qm94PSIwIDAgODAgODAiIHZlcnNpb249IjEuMSIgeG1sbnM9Imh0dHA6Ly93d3cudzMub3JnLzIwMDAvc3ZnIiB4bWxuczp4bGluaz0iaHR0cDovL3d3dy53My5vcmcvMTk5OS94bGluayI+CiAgICA8IS0tIEdlbmVyYXRvcjogU2tldGNoIDU0LjEgKDc2NDkwKSAtIGh0dHBzOi8vc2tldGNoYXBwLmNvbSAtLT4KICAgIDx0aXRsZT5Hcm91cCAzPC90aXRsZT4KICAgIDxkZXNjPkNyZWF0ZWQgd2l0aCBTa2V0Y2guPC9kZXNjPgogICAgPGcgaWQ9IkxhbmRpbmciIHN0cm9rZT0ibm9uZSIgc3Ryb2tlLXdpZHRoPSIxIiBmaWxsPSJub25lIiBmaWxsLXJ1bGU9ImV2ZW5vZGQiPgogICAgICAgIDxnIGlkPSJBcnRib2FyZCIgdHJhbnNmb3JtPSJ0cmFuc2xhdGUoLTEyMzUuMDAwMDAwLCAtNzkuMDAwMDAwKSI+CiAgICAgICAgICAgIDxnIGlkPSJHcm91cC0zIiB0cmFuc2Zvcm09InRyYW5zbGF0ZSgxMjM1LjAwMDAwMCwgNzkuMDAwMDAwKSI+CiAgICAgICAgICAgICAgICA8cG9seWdvbiBpZD0iUGF0aC0yMCIgZmlsbD0iIzAyNjVCNCIgcG9pbnRzPSIyLjM3NjIzNzYyIDgwIDM4LjA0NzY2NjcgODAgNTcuODIxNzgyMiA3My44MDU3NTkyIDU3LjgyMTc4MjIgMzIuNzU5MjczOSAzOS4xNDAyMjc4IDMxLjY4MzE2ODMiPjwvcG9seWdvbj4KICAgICAgICAgICAgICAgIDxwYXRoIGQ9Ik0zNS4wMDc3MTgsODAgQzQyLjkwNjIwMDcsNzYuNDU0OTM1OCA0Ny41NjQ5MTY3LDcxLjU0MjI2NzEgNDguOTgzODY2LDY1LjI2MTk5MzkgQzUxLjExMjI4OTksNTUuODQxNTg0MiA0MS42NzcxNzk1LDQ5LjIxMjIyODQgMjUuNjIzOTg0Niw0OS4yMTIyMjg0IEMyNS40ODQ5Mjg5LDQ5LjEyNjg0NDggMjkuODI2MTI5Niw0My4yODM4MjQ4IDM4LjY0NzU4NjksMzEuNjgzMTY4MyBMNzIuODcxMjg3MSwzMi41NTQ0MjUgTDY1LjI4MDk3Myw2Ny42NzYzNDIxIEw1MS4xMTIyODk5LDc3LjM3NjE0NCBMMzUuMDA3NzE4LDgwIFoiIGlkPSJQYXRoLTIyIiBmaWxsPSIjMDAyODY4Ij48L3BhdGg+CiAgICAgICAgICAgICAgICA8cGF0aCBkPSJNMCwzNy43MzA0NDA1IEwyNy4xMTQ1MzcsMC4yNTcxMTE0MzYgQzYyLjM3MTUxMjMsLTEuOTkwNzE3MDEgODAsMTAuNTAwMzkyNyA4MCwzNy43MzA0NDA1IEM4MCw2NC45NjA0ODgyIDY0Ljc3NjUwMzgsNzkuMDUwMzQxNCAzNC4zMjk1MTEzLDgwIEM0Ny4wNTUzNDg5LDc3LjU2NzA4MDggNTMuNDE4MjY3Nyw3MC4zMTM2MTAzIDUzLjQxODI2NzcsNTguMjM5NTg4NSBDNTMuNDE4MjY3Nyw0MC4xMjg1NTU3IDM2LjMwMzk1NDQsMzcuNzMwNDQwNSAyNS4yMjc0MTcsMzcuNzMwNDQwNSBDMTcuODQzMDU4NiwzNy43MzA0NDA1IDkuNDMzOTE5NjYsMzcuNzMwNDQwNSAwLDM3LjczMDQ0MDUgWiIgaWQ9IlBhdGgtMTkiIGZpbGw9IiMzNzkzRUYiPjwvcGF0aD4KICAgICAgICAgICAgPC9nPgogICAgICAgIDwvZz4KICAgIDwvZz4KPC9zdmc+' > </img>\nCreated in <span style='font-weight:600;margin-left:4px;'>Deepnote</span></a>",
   "metadata": {
    "tags": [],
    "created_in_deepnote_cell": true,
    "deepnote_cell_type": "markdown"
   }
  }
 ],
 "nbformat": 4,
 "nbformat_minor": 2,
 "metadata": {
  "orig_nbformat": 2,
  "deepnote": {
   "is_reactive": false
  },
  "deepnote_notebook_id": "055a1157-be0f-4f2b-9bf5-25519ebce1a0",
  "deepnote_execution_queue": []
 }
}