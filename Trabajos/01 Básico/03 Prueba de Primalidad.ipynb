{
 "cells": [
  {
   "cell_type": "markdown",
   "source": "# Trabajo Python - Prueba de Primalidad\n###### En este caso se desea desarrollar un código que nos permita identificar los números primos que se encuentren dentro de un rango específico.\n----",
   "metadata": {
    "tags": [],
    "cell_id": "00000-568a3174-fbbf-4153-aad6-afc38c250c8c",
    "deepnote_cell_type": "markdown"
   }
  },
  {
   "cell_type": "markdown",
   "source": "##### Se le solicita al usuario el ingreso del rango desde el cual desea identificar los números primos: ",
   "metadata": {
    "tags": [],
    "cell_id": "00001-a94ab480-529b-4875-b2d3-f933872964d4",
    "deepnote_cell_type": "markdown"
   }
  },
  {
   "cell_type": "code",
   "metadata": {
    "tags": [],
    "cell_id": "00000-858f3696-f19f-47f8-9789-19d840c8f9d2",
    "deepnote_to_be_reexecuted": false,
    "source_hash": "b7a40382",
    "execution_start": 1634015269723,
    "execution_millis": 12948,
    "deepnote_cell_type": "code"
   },
   "source": "print(\"\"\" \n\nHola usuario! 😉😉\n\nCon este código podremos identificar los números primos contenidos en un rango que tu ingreses. \n\nPara comenzar, solicitaremos que ingreses el número donde iniciaremos la búsqueda, y para finalizar te \nsolicitaremos hasta dónde debemos identificar.\n\n\"\"\")\n\nRn = range(int(input(\"Ingresar el número de inicio: \")),int(input(\"Ingresar el número final: \")))\n",
   "outputs": [
    {
     "name": "stdout",
     "text": " \n\nHola usuario! 😉😉\n\nCon este código podremos identificar los números primos contenidos en un rango que tu ingreses. \n\nPara comenzar, solicitaremos que ingreses el número donde iniciaremos la búsqueda, y para finalizar te solicitaremos hasta dónde debemos identificar.\n\n\n",
     "output_type": "stream"
    }
   ],
   "execution_count": null
  },
  {
   "cell_type": "markdown",
   "source": "##### Una vez definido el rango, tendremos que crear la función que valide si un número es primo",
   "metadata": {
    "tags": [],
    "cell_id": "00003-f8552633-5bc8-4697-84ff-31fcb72507fd",
    "deepnote_cell_type": "markdown"
   }
  },
  {
   "cell_type": "code",
   "source": "def es_primo(x):  \n# Primero descartamos los 3 primeros números, ya que estos son primos\n    if x>3:\n        #### Luego, hacemos la iteración desde el número 2 hasta el número inputado\n        for i in range(2,x):\n            if x%i == 0:\n                return False\n                break\n        return True\n    else:\n        return True",
   "metadata": {
    "tags": [],
    "cell_id": "00004-6c4d7843-0768-4297-bcb4-89e8f10d7bbf",
    "deepnote_to_be_reexecuted": false,
    "source_hash": "ab7a4ce3",
    "execution_start": 1634016517589,
    "execution_millis": 5,
    "deepnote_cell_type": "code"
   },
   "outputs": [
    {
     "output_type": "execute_result",
     "execution_count": 23,
     "data": {
      "text/plain": "False"
     },
     "metadata": {}
    }
   ],
   "execution_count": null
  },
  {
   "cell_type": "markdown",
   "source": "##### Finalmente, ejecutamos el validador de primo para cada valor dentro del rango ingresado por el usuario.",
   "metadata": {
    "tags": [],
    "cell_id": "00005-dd52a178-d724-4667-b22a-6c5fc74c691a",
    "deepnote_cell_type": "markdown"
   }
  },
  {
   "cell_type": "code",
   "source": "for i in Rn:\n    if es_primo(i) == True:\n        print(i)",
   "metadata": {
    "tags": [],
    "cell_id": "00006-b03df09b-04d9-4eb9-8fcc-3ae11295e9ae",
    "deepnote_to_be_reexecuted": false,
    "source_hash": "6425b28d",
    "execution_start": 1634016644279,
    "execution_millis": 8,
    "deepnote_cell_type": "code"
   },
   "outputs": [
    {
     "name": "stdout",
     "text": "1\n2\n3\n5\n7\n11\n13\n17\n19\n23\n29\n31\n37\n41\n43\n47\n",
     "output_type": "stream"
    }
   ],
   "execution_count": null
  },
  {
   "cell_type": "markdown",
   "source": "<a style='text-decoration:none;line-height:16px;display:flex;color:#5B5B62;padding:10px;justify-content:end;' href='https://deepnote.com?utm_source=created-in-deepnote-cell&projectId=be2c304b-5a85-4014-8c82-67dc5d240a02' target=\"_blank\">\n<img alt='Created in deepnote.com' style='display:inline;max-height:16px;margin:0px;margin-right:7.5px;' src='data:image/svg+xml;base64,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' > </img>\nCreated in <span style='font-weight:600;margin-left:4px;'>Deepnote</span></a>",
   "metadata": {
    "tags": [],
    "created_in_deepnote_cell": true,
    "deepnote_cell_type": "markdown"
   }
  }
 ],
 "nbformat": 4,
 "nbformat_minor": 2,
 "metadata": {
  "orig_nbformat": 2,
  "deepnote": {
   "is_reactive": false
  },
  "deepnote_notebook_id": "d2882e75-dc96-4f08-a9e8-7b74e7d485cc",
  "deepnote_execution_queue": []
 }
}