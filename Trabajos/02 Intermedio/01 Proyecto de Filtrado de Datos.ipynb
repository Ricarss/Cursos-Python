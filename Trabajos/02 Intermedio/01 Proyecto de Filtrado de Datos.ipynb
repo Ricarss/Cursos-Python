{
 "cells": [
  {
   "cell_type": "markdown",
   "source": "# Proyecto de Filtrado de Datos",
   "metadata": {
    "tags": [],
    "cell_id": "00000-7358ddf9-431f-4255-a7cd-c61a107ba18d",
    "deepnote_cell_type": "markdown"
   }
  },
  {
   "cell_type": "markdown",
   "source": "Primero pegamos toda la data que se trabajará para el proyecto (la data pegada está oculta para aprovechar el espacio)",
   "metadata": {
    "tags": [],
    "is_collapsed": false,
    "cell_id": "00001-a0ba8dfe-e196-4fc0-855f-781d33e34086",
    "deepnote_cell_type": "text-cell-p"
   }
  },
  {
   "cell_type": "code",
   "metadata": {
    "tags": [],
    "cell_id": "00000-fa5b01b7-e070-4f3a-b270-d5ad9f38114f",
    "is_code_hidden": false,
    "deepnote_to_be_reexecuted": false,
    "source_hash": "1baa96b7",
    "execution_start": 1634153210686,
    "execution_millis": 0,
    "deepnote_cell_type": "code"
   },
   "source": "# DATA PEGADA:\n\nDATA = [\n    {\n        'name': 'Facundo',\n        'age': 72,\n        'organization': 'Platzi',\n        'position': 'Technical Coach',\n        'language': 'python',\n    },\n    {\n        'name': 'Luisana',\n        'age': 33,\n        'organization': 'Globant',\n        'position': 'UX Designer',\n        'language': 'javascript',\n    },\n    {\n        'name': 'Héctor',\n        'age': 19,\n        'organization': 'Platzi',\n        'position': 'Associate',\n        'language': 'ruby',\n    },\n    {\n        'name': 'Gabriel',\n        'age': 20,\n        'organization': 'Platzi',\n        'position': 'Associate',\n        'language': 'javascript',\n    },\n    {\n        'name': 'Isabella',\n        'age': 30,\n        'organization': 'Platzi',\n        'position': 'QA Manager',\n        'language': 'java',\n    },\n    {\n        'name': 'Karo',\n        'age': 23,\n        'organization': 'Everis',\n        'position': 'Backend Developer',\n        'language': 'python',\n    },\n    {\n        'name': 'Ariel',\n        'age': 32,\n        'organization': 'Rappi',\n        'position': 'Support',\n        'language': '',\n    },\n    {\n        'name': 'Juan',\n        'age': 17,\n        'organization': '',\n        'position': 'Student',\n        'language': 'go',\n    },\n    {\n        'name': 'Pablo',\n        'age': 32,\n        'organization': 'Master',\n        'position': 'Human Resources Manager',\n        'language': 'python',\n    },\n    {\n        'name': 'Lorena',\n        'age': 56,\n        'organization': 'Python Organization',\n        'position': 'Language Maker',\n        'language': 'python',\n    },\n]",
   "execution_count": null,
   "outputs": []
  },
  {
   "cell_type": "markdown",
   "source": "Para practicar lo aprendido en la sección, se crearán dos funciones:",
   "metadata": {
    "tags": [],
    "is_collapsed": false,
    "cell_id": "00003-490fafae-d3cd-45ac-b38d-c20c8e3e7949",
    "deepnote_cell_type": "text-cell-p"
   }
  },
  {
   "cell_type": "code",
   "metadata": {
    "tags": [],
    "cell_id": "00004-1931f869-884d-4f0d-9728-1155383df141",
    "deepnote_to_be_reexecuted": false,
    "source_hash": "95f83c6b",
    "execution_start": 1634153210687,
    "execution_millis": 41,
    "deepnote_cell_type": "code"
   },
   "source": "#filtrado de DATA por list comprehensions\ndef fcom(x,y):\n    dfil = [i for i in DATA if i[x] == y]\n    return dfil\n        \n\n#filtrado de DATA por funciones de orden superior\ndef fosu(x,y):\n    dfil = list(filter(lambda i: i[x] == y,DATA))\n    return dfil",
   "execution_count": null,
   "outputs": []
  },
  {
   "cell_type": "markdown",
   "source": "Se define la función de filtrado, en este caso generaremos un random para que decida si se hará filtro por comprehensions o por funciones de orden superior:",
   "metadata": {
    "tags": [],
    "is_collapsed": false,
    "cell_id": "00003-f7fb35c7-142f-4bf1-9e2d-9488ddd6dca4",
    "deepnote_cell_type": "text-cell-p"
   }
  },
  {
   "cell_type": "code",
   "metadata": {
    "tags": [],
    "cell_id": "00004-8cc63040-4a3c-45ea-b46d-eec37bfa9558",
    "deepnote_to_be_reexecuted": false,
    "source_hash": "b813b431",
    "execution_start": 1634153210728,
    "execution_millis": 1,
    "deepnote_cell_type": "code"
   },
   "source": "import random as rd\n\ndef flt(x,y):\n    if rd.randint(0,1) == 1:\n        return fcom(x,y)\n    else:\n        return fosu(x,y)",
   "execution_count": null,
   "outputs": []
  },
  {
   "cell_type": "markdown",
   "source": "Lo siguiente es crear el menú de bienvenida al usuario y la consulta del tipo de filtro a realizar:",
   "metadata": {
    "tags": [],
    "is_collapsed": false,
    "cell_id": "00003-6d1c905a-6d2b-419f-bd79-9c71c24a10fa",
    "deepnote_cell_type": "text-cell-p"
   }
  },
  {
   "cell_type": "code",
   "metadata": {
    "tags": [],
    "cell_id": "00004-df1ca024-95cb-4911-ab1c-4d8267efcd60",
    "deepnote_to_be_reexecuted": false,
    "source_hash": "22157246",
    "execution_start": 1634153210729,
    "execution_millis": 2050,
    "deepnote_cell_type": "code"
   },
   "source": "welcome = '''\nBienvenido 🐱‍👤\nSelecciona el tipo de filtro que desea realizarse:\n1) Nombre\n2) Edad\n3) Organización\n4) Puesto\n5) Lenguaje de Programación\n'''\n\ni = input(welcome)",
   "execution_count": null,
   "outputs": []
  },
  {
   "cell_type": "markdown",
   "source": "Luego, se genera la matriz cabecera donde se tienen los keys de DATA, y se posiciona el valor de la llave a utilizar para el filtro",
   "metadata": {
    "tags": [],
    "is_collapsed": false,
    "cell_id": "00005-7c10dd97-103e-440b-9435-5b221b69ae99",
    "deepnote_cell_type": "text-cell-p"
   }
  },
  {
   "cell_type": "code",
   "metadata": {
    "tags": [],
    "cell_id": "00002-14e83202-d31b-4b84-bdc8-a5d4d907423d",
    "deepnote_to_be_reexecuted": false,
    "source_hash": "cbcc75fd",
    "execution_start": 1634153212784,
    "execution_millis": 44,
    "deepnote_cell_type": "code"
   },
   "source": "head = ['name','age','organization','position','language']\n\n# El usuario ingresó un número a partir del 1, así que debemos reducir su inicio a 0 para poder indexarlo:\n\ni = int(i)-1",
   "execution_count": null,
   "outputs": []
  },
  {
   "cell_type": "markdown",
   "source": "Se consulta los valores que desea filtrar de la lista y se ejecuta el filtrado:",
   "metadata": {
    "tags": [],
    "is_collapsed": false,
    "cell_id": "00007-4f1e97df-688c-4a34-a668-d6b1ca149697",
    "deepnote_cell_type": "text-cell-p"
   }
  },
  {
   "cell_type": "code",
   "metadata": {
    "tags": [],
    "cell_id": "00008-eb86ad3e-c6f7-4be7-a175-5594d0b48f2c",
    "deepnote_to_be_reexecuted": false,
    "source_hash": "4f29c691",
    "execution_start": 1634153212828,
    "execution_millis": 5337,
    "deepnote_cell_type": "code"
   },
   "source": "f = input(\"Usted ingresó la llave: \"+ head[i] +\", por favor ingresar el valor del filtro:\")\nprint(f)\nprint(flt(head[i],f))\n",
   "execution_count": null,
   "outputs": [
    {
     "name": "stdout",
     "text": "python\n[{'name': 'Facundo', 'age': 72, 'organization': 'Platzi', 'position': 'Technical Coach', 'language': 'python'}, {'name': 'Karo', 'age': 23, 'organization': 'Everis', 'position': 'Backend Developer', 'language': 'python'}, {'name': 'Pablo', 'age': 32, 'organization': 'Master', 'position': 'Human Resources Manager', 'language': 'python'}, {'name': 'Lorena', 'age': 56, 'organization': 'Python Organization', 'position': 'Language Maker', 'language': 'python'}]\n",
     "output_type": "stream"
    }
   ]
  },
  {
   "cell_type": "markdown",
   "source": "<a style='text-decoration:none;line-height:16px;display:flex;color:#5B5B62;padding:10px;justify-content:end;' href='https://deepnote.com?utm_source=created-in-deepnote-cell&projectId=be2c304b-5a85-4014-8c82-67dc5d240a02' target=\"_blank\">\n<img alt='Created in deepnote.com' style='display:inline;max-height:16px;margin:0px;margin-right:7.5px;' src='data:image/svg+xml;base64,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' > </img>\nCreated in <span style='font-weight:600;margin-left:4px;'>Deepnote</span></a>",
   "metadata": {
    "tags": [],
    "created_in_deepnote_cell": true,
    "deepnote_cell_type": "markdown"
   }
  }
 ],
 "nbformat": 4,
 "nbformat_minor": 2,
 "metadata": {
  "orig_nbformat": 2,
  "deepnote": {
   "is_reactive": false
  },
  "deepnote_notebook_id": "89021e3f-3ead-41f8-b0b5-77d75039b9a4",
  "deepnote_execution_queue": []
 }
}